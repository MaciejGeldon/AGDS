{
 "cells": [
  {
   "cell_type": "markdown",
   "metadata": {},
   "source": [
    "## Na początek struktury danych których użyłem do stworzenia struktury przypominającej najprostrze AGDS"
   ]
  },
  {
   "cell_type": "code",
   "execution_count": 1,
   "metadata": {},
   "outputs": [],
   "source": [
    "class Node:\n",
    "    def __init__(self, hash_key):\n",
    "        self._hash_key = hash_key\n",
    "\n",
    "    def __hash__(self):\n",
    "        return hash(self._hash_key)\n",
    "\n",
    "    def __eq__(self, other):\n",
    "        if isinstance(other, self.__class__):\n",
    "            return self._hash_key == other._hash_key\n",
    "        if isinstance(other, str):\n",
    "            return self._hash_key == other\n",
    "        raise NotImplementedError(f'__eq__ not implemented for {self}, {other}')\n",
    "\n",
    "    def __repr__(self):\n",
    "        return f'Node({self._hash_key})'"
   ]
  },
  {
   "cell_type": "markdown",
   "metadata": {},
   "source": [
    "### Powyżej klasa opisujaca noda w grafie. W założeniu miała to być klasa bazowa opisująca parametry i atrybuty w grafie czyli to co nie ma \"wartości\"\n"
   ]
  },
  {
   "cell_type": "code",
   "execution_count": 2,
   "metadata": {},
   "outputs": [],
   "source": [
    "class ValueNode(Node):\n",
    "    def __init__(self, parameter, value, count=1):\n",
    "        super().__init__(f'{parameter}:{value}')\n",
    "        self.parameter = parameter\n",
    "        self.value = value\n",
    "        self.count = count\n",
    "\n",
    "    def __repr__(self):\n",
    "        return f'ValueNode({self.parameter}, {self.value}, {self.count})'"
   ]
  },
  {
   "cell_type": "markdown",
   "metadata": {},
   "source": [
    "### Dla klasy ValueNode wymyśliłem ,że kluczem pod którym dana wartość będzie przechowywana będzie połączenie nazwy parametru i wartości jaka pod tym parametrem się kryje, dodaje też krotność tej wartości."
   ]
  },
  {
   "cell_type": "markdown",
   "metadata": {},
   "source": [
    "### Wstępna klasa tworzaca strukture grafowa jest zaproponowana poniżej "
   ]
  },
  {
   "cell_type": "code",
   "execution_count": 3,
   "metadata": {},
   "outputs": [],
   "source": [
    "class AGDS:\n",
    "    def __init__(self):\n",
    "        self._graph_dict = {}\n",
    "\n",
    "    def add_vertex(self, vertex):\n",
    "        if vertex not in self._graph_dict:\n",
    "            self._graph_dict[vertex] = []\n",
    "\n",
    "    def add_edge(self, v1, v2, symmetric=False) -> None:\n",
    "        connections = [[v1, v2]]\n",
    "\n",
    "        if symmetric:\n",
    "            connections += [(v2, v1)]\n",
    "\n",
    "        for v1, v2 in connections:\n",
    "            if self._graph_dict[v1]:\n",
    "                self._graph_dict[v1].append(v2)\n",
    "            else:\n",
    "                self._graph_dict[v1] = [v2]\n",
    "\n",
    "    def add_row(self, row, attributes):\n",
    "        for param in attributes:\n",
    "            val = getattr(row, param)\n",
    "\n",
    "            value_node = ValueNode(param, val)\n",
    "            if value_node in self._graph_dict:\n",
    "                self._graph_dict[value_node].count += 1\n",
    "\n",
    "            else:\n",
    "                self._graph_dict[value_node] = value_node\n",
    "                self._graph_dict[param].append(value_node)\n",
    "\n",
    "    def build_from_pandas(self, pd_dataframe):\n",
    "        attributes_node = Node('attributes')\n",
    "        self.add_vertex(attributes_node)\n",
    "\n",
    "        attrs = [a for a in pd_dataframe.columns]\n",
    "\n",
    "        for attr in attrs:\n",
    "            attr_node = Node(attr)\n",
    "            self.add_vertex(attr_node)\n",
    "            self.add_edge(attributes_node, attr_node, symmetric=True)\n",
    "\n",
    "        for row in pd_dataframe.itertuples():\n",
    "            self.add_row(row, attrs)"
   ]
  },
  {
   "cell_type": "markdown",
   "metadata": {},
   "source": [
    "### Brakuje jej sortowania wartości w konkretnych parametrach, oraz dodawania połączeń między kolejnymi parametrami. Zdaje sobie z tego sprawę i był to dla mnie zarys struktury jaką powinien mieć ten graf"
   ]
  },
  {
   "cell_type": "markdown",
   "metadata": {},
   "source": [
    "### W założeniu chciałem do niej dołożyć strukturę ASA pod każdym parametrem, ale nie zdążyłem."
   ]
  },
  {
   "cell_type": "markdown",
   "metadata": {},
   "source": [
    "### Budowanie struktury ASA zacząłem od stworzenia swojego algorytmu tworzącego drzewo binarne"
   ]
  },
  {
   "cell_type": "code",
   "execution_count": 4,
   "metadata": {},
   "outputs": [],
   "source": [
    "class BTreeNode:\n",
    "    @classmethod\n",
    "    def split_from_node(cls, node):\n",
    "        median_key = node.keys[node.t]\n",
    "        node_left = cls(node.t, leaf=node.leaf)\n",
    "        node_left.keys = node.keys[:node.t]\n",
    "\n",
    "        node_right = cls(node.t, leaf=node.leaf)\n",
    "        node_right.keys = node.keys[node.t + 1:]\n",
    "\n",
    "        if not node.leaf:\n",
    "            node_left.children = node.children[:node.t + 1]\n",
    "            node_right.children = node.children[node.t + 1:]\n",
    "\n",
    "        return median_key, node_left, node_right\n",
    "\n",
    "    def __init__(self, t, leaf=False, parent=None):\n",
    "        self.t = t\n",
    "        self.keys = []\n",
    "        self.children = []\n",
    "        self.leaf = leaf\n",
    "        self.parent = parent\n",
    "\n",
    "    def add_key(self, key):\n",
    "        added = False\n",
    "        for i in range(len(self.keys)):\n",
    "            if key < self.keys[i]:\n",
    "                self.keys.insert(i, key)\n",
    "                added = True\n",
    "                break\n",
    "        if not added:\n",
    "            self.keys.append(key)\n",
    "\n",
    "    @property\n",
    "    def overflow(self):\n",
    "        return len(self.keys) >= self.t * 2 + 1"
   ]
  },
  {
   "cell_type": "markdown",
   "metadata": {},
   "source": [
    "### Powyżej jest klasa pomocnicza która opisuje node drzewa."
   ]
  },
  {
   "cell_type": "markdown",
   "metadata": {},
   "source": [
    "### Poniżej już właściwa klasa drzewa z metodą insert"
   ]
  },
  {
   "cell_type": "code",
   "execution_count": 5,
   "metadata": {},
   "outputs": [],
   "source": [
    "class BTree:\n",
    "    def __init__(self, t):\n",
    "        self.root = None\n",
    "        self.t = t\n",
    "\n",
    "    def insert(self, key):\n",
    "        if self.root is None:\n",
    "            self.root = BTreeNode(self.t, True)\n",
    "            self.root.add_key(key)\n",
    "            return\n",
    "\n",
    "        self._insert(key, self.root)\n",
    "\n",
    "    def _add_and_propagate(self, node, median_key, left_child, right_child):\n",
    "        parent = node.parent\n",
    "        if parent is None:\n",
    "            new_root = BTreeNode(self.t)\n",
    "            new_root.keys.append(median_key)\n",
    "\n",
    "            left_child.parent = new_root\n",
    "            right_child.parent = new_root\n",
    "\n",
    "            new_root.children.append(left_child)\n",
    "            new_root.children.append(right_child)\n",
    "\n",
    "            self.root = new_root\n",
    "            return\n",
    "\n",
    "        # search for position in parent node\n",
    "        for index in range(len(parent.children)):\n",
    "            if node == parent.children[index]:\n",
    "                parent.children.pop(index)\n",
    "\n",
    "                left_child.parent = parent\n",
    "                right_child.parent = parent\n",
    "\n",
    "                parent.children.insert(index, left_child)\n",
    "                parent.children.insert(index + 1, right_child)\n",
    "\n",
    "        parent.add_key(median_key)\n",
    "\n",
    "        if parent.overflow:\n",
    "            median_key_p, left_node_p, right_node_p = BTreeNode.split_from_node(parent)\n",
    "            self._add_and_propagate(parent, median_key_p, left_node_p, right_node_p)\n",
    "\n",
    "    def _insert(self, key, node):\n",
    "        if node.leaf:\n",
    "            node.add_key(key)\n",
    "            if node.overflow:\n",
    "                median_key, left_node, right_node = BTreeNode.split_from_node(node)\n",
    "                self._add_and_propagate(node, median_key, left_node, right_node)\n",
    "            return\n",
    "        else:\n",
    "            found = False\n",
    "            for ch_index, n_key in enumerate(node.keys):\n",
    "                if key < n_key:\n",
    "                    found = True\n",
    "                    break\n",
    "\n",
    "            if not found:\n",
    "                ch_index += 1\n",
    "\n",
    "            self._insert(key, node.children[ch_index])"
   ]
  },
  {
   "cell_type": "markdown",
   "metadata": {},
   "source": [
    "### Poniżej to na czym testowałem czy moja implementacja drzewa zachowuje się sensownie"
   ]
  },
  {
   "cell_type": "code",
   "execution_count": 8,
   "metadata": {},
   "outputs": [],
   "source": [
    "bt = BTree(1)\n",
    "\n",
    "bt.insert(2)\n",
    "bt.insert(9)\n",
    "\n",
    "bt.insert(1)\n",
    "bt.insert(4)\n",
    "bt.insert(5)\n",
    "\n",
    "bt.insert(3)\n",
    "bt.insert(6)\n",
    "bt.insert(10)"
   ]
  },
  {
   "cell_type": "markdown",
   "metadata": {},
   "source": [
    "### Drzewo nie będzie działało poprawnie dla duplikatów chciałem stworzyć sobie szkic drzewa aby później rozumiejąc podstawy przejść do zaimplementowania struktury ASA i wrzucić te strukture we właściwie miejscie do klasy AGDS dodając kolejne operacje opisane w ASA-GRAPHS FOR EFFICIENT DATA REPRESENTATION AND PROCESSING"
   ]
  },
  {
   "cell_type": "code",
   "execution_count": null,
   "metadata": {},
   "outputs": [],
   "source": []
  }
 ],
 "metadata": {
  "kernelspec": {
   "display_name": "Python 3",
   "language": "python",
   "name": "python3"
  },
  "language_info": {
   "codemirror_mode": {
    "name": "ipython",
    "version": 3
   },
   "file_extension": ".py",
   "mimetype": "text/x-python",
   "name": "python",
   "nbconvert_exporter": "python",
   "pygments_lexer": "ipython3",
   "version": "3.8.5"
  }
 },
 "nbformat": 4,
 "nbformat_minor": 4
}
